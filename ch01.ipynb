{
  "nbformat": 4,
  "nbformat_minor": 0,
  "metadata": {
    "colab": {
      "provenance": [],
      "authorship_tag": "ABX9TyNhR0WKYBGMF4CcQs7sMYm3",
      "include_colab_link": true
    },
    "kernelspec": {
      "name": "python3",
      "display_name": "Python 3"
    },
    "language_info": {
      "name": "python"
    }
  },
  "cells": [
    {
      "cell_type": "markdown",
      "metadata": {
        "id": "view-in-github",
        "colab_type": "text"
      },
      "source": [
        "<a href=\"https://colab.research.google.com/github/Osakana7777777/GaussianProcessAndML/blob/main/ch01.ipynb\" target=\"_parent\"><img src=\"https://colab.research.google.com/assets/colab-badge.svg\" alt=\"Open In Colab\"/></a>"
      ]
    },
    {
      "cell_type": "markdown",
      "source": [
        "#準備"
      ],
      "metadata": {
        "id": "Jygv3zR-VnHJ"
      }
    },
    {
      "cell_type": "code",
      "source": [
        "import numpy as np"
      ],
      "metadata": {
        "id": "8gfSFHKlVmdv"
      },
      "execution_count": 10,
      "outputs": []
    },
    {
      "cell_type": "markdown",
      "source": [
        "#1.4 リッジ回帰\n"
      ],
      "metadata": {
        "id": "EhnK6DjXTaAQ"
      }
    },
    {
      "cell_type": "markdown",
      "source": [
        "リッジ回帰の解（公式1.6）\n",
        "\n",
        "$w=(\\mathbf{X}^{T}\\mathbf{X}+\\alpha\\mathbf{I})^{-1}\\mathbf{X}^{T}\\mathbf{y}$\n"
      ],
      "metadata": {
        "id": "sFmKu2RtTkWa"
      }
    },
    {
      "cell_type": "code",
      "source": [
        "X1=np.array([\n",
        "    [1,2,4],\n",
        "    [1,3,6],\n",
        "    [1,4,8]\n",
        "])\n",
        "X2=np.array([\n",
        "    [1,2,4],\n",
        "    [1,3,6.1],\n",
        "    [1,4,7.9]\n",
        "])"
      ],
      "metadata": {
        "id": "DTM8odT4TjaI"
      },
      "execution_count": 6,
      "outputs": []
    },
    {
      "cell_type": "code",
      "source": [
        "print(np.dot(X1.T,X1)) #(1.70)\n",
        "print(np.linalg.inv(np.dot(X2.T,X2))) #(1.72) wの絶対値が大きくなってしまう "
      ],
      "metadata": {
        "colab": {
          "base_uri": "https://localhost:8080/"
        },
        "id": "gqh9g_ceU9If",
        "outputId": "7a499747-a5c3-4d37-b2bf-8911f555c500"
      },
      "execution_count": 11,
      "outputs": [
        {
          "output_type": "stream",
          "name": "stdout",
          "text": [
            "[[  3   9  18]\n",
            " [  9  29  58]\n",
            " [ 18  58 116]]\n",
            "[[   6.33333333   18.          -10.        ]\n",
            " [  18.          254.         -130.        ]\n",
            " [ -10.         -130.           66.66666667]]\n"
          ]
        }
      ]
    },
    {
      "cell_type": "code",
      "source": [
        "#Ridge regression\n",
        "def ridge(X,y,alpha):\n",
        "  tmp1=np.linalg.inv(np.dot(X.T,X)+alpha*np.eye(X.shape[0]))\n",
        "  tmp2=np.dot(tmp1,X.T)\n",
        "  w=np.dot(tmp2,y)\n",
        "  return w\n",
        "\n",
        "#例7\n",
        "y=np.array([1,2,3])\n",
        "print(ridge(X1,y,alpha=0.1)) #(1.79)"
      ],
      "metadata": {
        "colab": {
          "base_uri": "https://localhost:8080/"
        },
        "id": "tf0p2nNaVF7u",
        "outputId": "ed9e9c4c-bb1d-4caa-e879-5276738786ad"
      },
      "execution_count": 13,
      "outputs": [
        {
          "output_type": "stream",
          "name": "stdout",
          "text": [
            "[-0.65610355  0.17853158  0.35706316]\n"
          ]
        }
      ]
    },
    {
      "cell_type": "markdown",
      "source": [
        "リッジ回帰は正則化の一種（L2正則化）である．パラメータの絶対値を大きくしないようにして過学習を抑制する．L1正則化であるLasso回帰は，特徴量の多くを0にする効果（スパース性）があり，特徴量選択に用いることができる．"
      ],
      "metadata": {
        "id": "PvXjThlbX8WN"
      }
    },
    {
      "cell_type": "code",
      "source": [],
      "metadata": {
        "id": "tx-O3rtLWHPM"
      },
      "execution_count": null,
      "outputs": []
    }
  ]
}